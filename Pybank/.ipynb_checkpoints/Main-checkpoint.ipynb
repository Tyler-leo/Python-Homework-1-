{
 "cells": [
  {
   "cell_type": "code",
   "execution_count": 1,
   "id": "cc30a9d1-9fa1-47aa-bd95-b7f83ea3c34d",
   "metadata": {},
   "outputs": [],
   "source": [
    "# Unit 2 | Homework Assignment: Automate Your Day Job with Python"
   ]
  },
  {
   "cell_type": "code",
   "execution_count": 452,
   "id": "320b2bbf-2946-429d-8596-407908f914fd",
   "metadata": {},
   "outputs": [],
   "source": [
    "# Import the libraries for reading csv file\n",
    "from pathlib import Path\n",
    "import csv"
   ]
  },
  {
   "cell_type": "code",
   "execution_count": 453,
   "id": "4d205f6e-54d7-425d-ad47-9571966c0327",
   "metadata": {},
   "outputs": [],
   "source": [
    "#setting Variables:\n",
    "total_months = 0\n",
    "total_profit_loss = 0\n",
    "highest_profit = 0\n",
    "lowest_decrease = 0\n",
    "best_month = \"\"\n",
    "worst_month = \"\"\n",
    "profitloss_change = 0\n",
    "previous_profitloss = 0\n",
    "average=0"
   ]
  },
  {
   "cell_type": "code",
   "execution_count": 454,
   "id": "8f21cb77-3756-49de-95f0-7ea8ad5b767c",
   "metadata": {},
   "outputs": [],
   "source": [
    "# Setting the file path\n",
    "csvpath = Path(\"C:/Users/sambu/Homework Assignment 2/python-homework/PyBank/budget_data (1).csv\")\n",
    "# Read CSV file\n",
    "with open(csvpath, newline=\"\") as csvfile:\n",
    "    csvreader = csv.reader(csvfile, delimiter=',')\n",
    "\n",
    "    next(csvreader) #Skip header row\n",
    "    for row in csvreader:\n",
    "        \n",
    "        #Total Number of Months\n",
    "        total_months += 1\n",
    "        \n",
    "        #Total Profit and loss\n",
    "        total_profit_loss += int(row[1])\n",
    "\n",
    "        #Best Month\n",
    "        if int(row[1]) > highest_profit:\n",
    "            best_month = (row[0])\n",
    "            highest_profit = int(row[1])\n",
    "            #lowest month\n",
    "        elif int(row[1]) < lowest_decrease:\n",
    "            worst_month = (row[0])\n",
    "            lowest_decrease = int(row[1])\n",
    "            \n"
   ]
  },
  {
   "cell_type": "code",
   "execution_count": 455,
   "id": "2cac11c7-b721-4f94-9a3f-1a58ff373abc",
   "metadata": {},
   "outputs": [
    {
     "name": "stdout",
     "output_type": "stream",
     "text": [
      "86\n"
     ]
    }
   ],
   "source": [
    "print(total_months)"
   ]
  },
  {
   "cell_type": "code",
   "execution_count": 456,
   "id": "00f96685-cf43-4e10-aa5d-d53389596b76",
   "metadata": {},
   "outputs": [
    {
     "name": "stdout",
     "output_type": "stream",
     "text": [
      "38382578\n"
     ]
    }
   ],
   "source": [
    "print(total_profit_loss)"
   ]
  },
  {
   "cell_type": "code",
   "execution_count": 457,
   "id": "8d709f11-4609-4627-81fa-b951753353e1",
   "metadata": {},
   "outputs": [
    {
     "name": "stdout",
     "output_type": "stream",
     "text": [
      "financial Analysis\n",
      "-----------------------------\n",
      "Total Months:  86\n",
      "Total: $38382578\n",
      "Average Change: $\n",
      "Greatest Increase in Profits: Feb-2012 ($1170593)\n",
      "Greatest Decrease in Profits: Sep-2013 ($-1196225)\n"
     ]
    }
   ],
   "source": [
    "print(\"financial Analysis\")\n",
    "print(\"-----------------------------\")\n",
    "print(f\"Total Months:  {total_months}\")\n",
    "print(f\"Total: ${total_profit_loss}\")\n",
    "print(\"Average Change: $\")\n",
    "print(f\"Greatest Increase in Profits: {best_month} (${highest_profit})\")\n",
    "print(f\"Greatest Decrease in Profits: {worst_month} (${lowest_decrease})\")"
   ]
  },
  {
   "cell_type": "code",
   "execution_count": 460,
   "id": "d857d083-d531-4cc2-8607-02488d887197",
   "metadata": {},
   "outputs": [],
   "source": [
    "#Setting path for the txt file"
   ]
  },
  {
   "cell_type": "code",
   "execution_count": 482,
   "id": "d17f2d29-ba15-4eac-a506-7f6985f1393f",
   "metadata": {},
   "outputs": [],
   "source": [
    "financial_analysis = Path(\"C:/Users/sambu/Homework Assignment 2/python-homework/PyBank/financial_analysis.txt\")"
   ]
  },
  {
   "cell_type": "code",
   "execution_count": 483,
   "id": "1561f45b-ef3e-4957-82aa-a4c475aebb92",
   "metadata": {},
   "outputs": [],
   "source": [
    "#using with open command to write \"w\" file\n",
    "with open(financial_analysis,'w') as f:\n",
    "    f.write(\"Financial Analysis\")\n",
    "    f.write(\"\\n\")\n",
    "    f.write(\"------------------------\")\n",
    "    f.write(\"\\n\")\n",
    "    f.write(f\"Total Months:  {total_months}\")\n",
    "    f.write(\"\\n\")\n",
    "    f.write((f\"Total: ${total_profit_loss}\"))\n",
    "    f.write(\"\\n\")\n",
    "    f.write(\"average change: $\")\n",
    "    f.write(f\"Greatest Increase in Profits: {best_month} (${highest_profit})\")\n",
    "    f.write(\"\\n\")\n",
    "    f.write(f\"Greatest Decrease in Profits: {worst_month} (${lowest_decrease})\")\n",
    "    "
   ]
  }
 ],
 "metadata": {
  "kernelspec": {
   "display_name": "Python 3 (ipykernel)",
   "language": "python",
   "name": "python3"
  },
  "language_info": {
   "codemirror_mode": {
    "name": "ipython",
    "version": 3
   },
   "file_extension": ".py",
   "mimetype": "text/x-python",
   "name": "python",
   "nbconvert_exporter": "python",
   "pygments_lexer": "ipython3",
   "version": "3.9.12"
  }
 },
 "nbformat": 4,
 "nbformat_minor": 5
}
