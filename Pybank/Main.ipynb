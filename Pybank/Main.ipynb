{
 "cells": [
  {
   "cell_type": "code",
   "execution_count": 131,
   "id": "cc30a9d1-9fa1-47aa-bd95-b7f83ea3c34d",
   "metadata": {},
   "outputs": [],
   "source": [
    "# Unit 2 | Homework Assignment: Automate Your Day Job with Python"
   ]
  },
  {
   "cell_type": "code",
   "execution_count": 141,
   "id": "320b2bbf-2946-429d-8596-407908f914fd",
   "metadata": {},
   "outputs": [],
   "source": [
    "# Import the libraries for reading csv file\n",
    "from pathlib import Path\n",
    "import csv"
   ]
  },
  {
   "cell_type": "code",
   "execution_count": 142,
   "id": "4d205f6e-54d7-425d-ad47-9571966c0327",
   "metadata": {},
   "outputs": [],
   "source": [
    "#setting Variables:\n",
    "total_months = 0\n",
    "total_profit_loss = 0\n",
    "highest_profit = 0\n",
    "lowest_decrease = 0\n",
    "best_month = \"\"\n",
    "worst_month = \"\"\n",
    "profitloss_change = 0\n",
    "previous_profitloss = 0\n",
    "average=0\n",
    "total_average= 0\n",
    "change_list = []"
   ]
  },
  {
   "cell_type": "code",
   "execution_count": 143,
   "id": "8f21cb77-3756-49de-95f0-7ea8ad5b767c",
   "metadata": {},
   "outputs": [],
   "source": [
    "# Setting the file path\n",
    "csvpath = Path(\"C:/Users/sambu/Homework Assignment 2/python-homework/PyBank/budget_data (1).csv\")\n",
    "# Read CSV file\n",
    "with open(csvpath, newline=\"\") as csvfile:\n",
    "    csvreader = csv.reader(csvfile, delimiter=',')\n",
    "\n",
    "    header =next(csvreader) #Skip header row\n",
    "    first_row = next(csvreader)\n",
    "    total_months += 1\n",
    "    total_profit_loss += int(first_row[1])\n",
    "    previous_profitloss = int(first_row[1])\n",
    "    \n",
    "    for row in csvreader:\n",
    "        \n",
    "        #Total Number of Months\n",
    "        total_months += 1\n",
    "        \n",
    "        #Total Profit and loss\n",
    "        total_profit_loss += int(row[1])\n",
    "        \n",
    "        #Average Change between months\n",
    "        change = int(row[1]) - previous_profitloss\n",
    "        previous_profitloss = int(row[1])\n",
    "        change_list = change_list + [change]\n",
    "\n",
    "        \n",
    "        #Best Month\n",
    "        if  change > highest_profit:\n",
    "            best_month = (row[0])\n",
    "            highest_profit = change\n",
    "            #lowest month\n",
    "        if  change < lowest_decrease:\n",
    "            worst_month = (row[0])\n",
    "            lowest_decrease = change\n",
    "            "
   ]
  },
  {
   "cell_type": "code",
   "execution_count": 144,
   "id": "c7ac908d-c9e4-4951-88fd-96d94e633f20",
   "metadata": {},
   "outputs": [],
   "source": [
    "#Average Change\n",
    "average_change = round(sum(change_list)/len(change_list),2)"
   ]
  },
  {
   "cell_type": "code",
   "execution_count": 145,
   "id": "8d709f11-4609-4627-81fa-b951753353e1",
   "metadata": {},
   "outputs": [
    {
     "name": "stdout",
     "output_type": "stream",
     "text": [
      "financial Analysis\n",
      "-----------------------------\n",
      "Total Months:  86\n",
      "Total: $38382578\n",
      "Average Change: $-2315.12\n",
      "Greatest Increase in Profits: Feb-2012 ($1926159)\n",
      "Greatest Decrease in Profits: Sep-2013 ($-2196167)\n"
     ]
    }
   ],
   "source": [
    "print(\"financial Analysis\")\n",
    "print(\"-----------------------------\")\n",
    "print(f\"Total Months:  {total_months}\")\n",
    "print(f\"Total: ${total_profit_loss}\")\n",
    "print(f\"Average Change: ${average_change}\")\n",
    "print(f\"Greatest Increase in Profits: {best_month} (${highest_profit})\")\n",
    "print(f\"Greatest Decrease in Profits: {worst_month} (${lowest_decrease})\")"
   ]
  },
  {
   "cell_type": "code",
   "execution_count": 146,
   "id": "d857d083-d531-4cc2-8607-02488d887197",
   "metadata": {},
   "outputs": [],
   "source": [
    "#Setting path for the txt file"
   ]
  },
  {
   "cell_type": "code",
   "execution_count": 147,
   "id": "d17f2d29-ba15-4eac-a506-7f6985f1393f",
   "metadata": {},
   "outputs": [],
   "source": [
    "financial_analysis = Path(\"C:/Users/sambu/Assignment 2/Python-Homework-1-/Pybank/financial_analysis.txt\")"
   ]
  },
  {
   "cell_type": "code",
   "execution_count": 148,
   "id": "1561f45b-ef3e-4957-82aa-a4c475aebb92",
   "metadata": {},
   "outputs": [],
   "source": [
    "#using with open command to write \"w\" file\n",
    "with open(financial_analysis,'w') as f:\n",
    "    f.write(\"Financial Analysis\")\n",
    "    f.write(\"\\n\")\n",
    "    f.write(\"------------------------\")\n",
    "    f.write(\"\\n\")\n",
    "    f.write(f\"Total Months:  {total_months}\")\n",
    "    f.write(\"\\n\")\n",
    "    f.write((f\"Total: ${total_profit_loss}\"))\n",
    "    f.write(\"\\n\")\n",
    "    f.write(f\"average change: ${average_change}\")\n",
    "    f.write(\"\\n\")\n",
    "    f.write(f\"Greatest Increase in Profits: {best_month} (${highest_profit})\")\n",
    "    f.write(\"\\n\")\n",
    "    f.write(f\"Greatest Decrease in Profits: {worst_month} (${lowest_decrease})\")\n",
    "    "
   ]
  }
 ],
 "metadata": {
  "kernelspec": {
   "display_name": "Python 3 (ipykernel)",
   "language": "python",
   "name": "python3"
  },
  "language_info": {
   "codemirror_mode": {
    "name": "ipython",
    "version": 3
   },
   "file_extension": ".py",
   "mimetype": "text/x-python",
   "name": "python",
   "nbconvert_exporter": "python",
   "pygments_lexer": "ipython3",
   "version": "3.9.12"
  }
 },
 "nbformat": 4,
 "nbformat_minor": 5
}
